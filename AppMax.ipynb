{
  "nbformat": 4,
  "nbformat_minor": 0,
  "metadata": {
    "colab": {
      "name": "AppMax",
      "provenance": [],
      "authorship_tag": "ABX9TyOikW/rrb1snB5Sr1RO8w1m",
      "include_colab_link": true
    },
    "kernelspec": {
      "name": "python3",
      "display_name": "Python 3"
    },
    "language_info": {
      "name": "python"
    }
  },
  "cells": [
    {
      "cell_type": "markdown",
      "metadata": {
        "id": "view-in-github",
        "colab_type": "text"
      },
      "source": [
        "<a href=\"https://colab.research.google.com/github/Bross-DataScience/AppMax/blob/main/AppMax.ipynb\" target=\"_parent\"><img src=\"https://colab.research.google.com/assets/colab-badge.svg\" alt=\"Open In Colab\"/></a>"
      ]
    },
    {
      "cell_type": "code",
      "source": [
        "# Comando para instalar o PySpark no ambiente\n",
        "!pip install pyspark "
      ],
      "metadata": {
        "colab": {
          "base_uri": "https://localhost:8080/"
        },
        "id": "U65wk1ZBu0v9",
        "outputId": "42eabec9-aa90-4600-afd2-a88f4b06774d"
      },
      "execution_count": 359,
      "outputs": [
        {
          "output_type": "stream",
          "name": "stdout",
          "text": [
            "Requirement already satisfied: pyspark in /usr/local/lib/python3.7/dist-packages (3.2.1)\n",
            "Requirement already satisfied: py4j==0.10.9.3 in /usr/local/lib/python3.7/dist-packages (from pyspark) (0.10.9.3)\n"
          ]
        }
      ]
    },
    {
      "cell_type": "code",
      "source": [
        "# Criando a sessão Spark e importando os Dados\n",
        "from pyspark.sql import SparkSession\n",
        "spark = SparkSession.builder.appName('ByteComercio').config('spark.master', 'local').getOrCreate()\n",
        "\n",
        "df_byte_comercio = spark.read.csv('/content/MOCK_DATA.csv',  sep=',', inferSchema='false', header='true')"
      ],
      "metadata": {
        "id": "GpZj2gvbu1R6"
      },
      "execution_count": 360,
      "outputs": []
    },
    {
      "cell_type": "code",
      "execution_count": 361,
      "metadata": {
        "colab": {
          "base_uri": "https://localhost:8080/"
        },
        "id": "Oa02CV-5up-R",
        "outputId": "c4b6eac9-6908-4a40-f108-e630a481e81c"
      },
      "outputs": [
        {
          "output_type": "stream",
          "name": "stdout",
          "text": [
            "+---+---------+---------+--------------------+--------+-------------------+\n",
            "| id|     nome|sobrenome|               email| salario|      ultima_compra|\n",
            "+---+---------+---------+--------------------+--------+-------------------+\n",
            "|  1|   Ragnar|   Beggin|  rbeggin0@hexun.com|$1218.74|2022-01-10 03:22:31|\n",
            "|  2|Meredithe|  Balazin|   mbalazin1@cmu.edu|$4345.39|2022-03-24 10:14:54|\n",
            "|  3|    Cammi| Matchett|cmatchett2@networ...|$3443.81|2022-01-29 03:19:02|\n",
            "|  4|     Peta|   Duffan|pduffan3@wordpres...|$4602.96|2022-02-10 03:46:11|\n",
            "|  5| Cornelia|    Keith|ckeith4@businessw...|$1998.34|2022-03-21 17:19:13|\n",
            "+---+---------+---------+--------------------+--------+-------------------+\n",
            "only showing top 5 rows\n",
            "\n"
          ]
        }
      ],
      "source": [
        "# Visualizando os Dados\n",
        "df_byte_comercio.show(5)"
      ]
    },
    {
      "cell_type": "code",
      "source": [
        "# Verificando a Estrutura dos Dados\n",
        "df_byte_comercio.printSchema()"
      ],
      "metadata": {
        "colab": {
          "base_uri": "https://localhost:8080/"
        },
        "id": "1kznqMloy22G",
        "outputId": "ad79da10-eef4-4fe3-a379-27688b67c0ae"
      },
      "execution_count": 362,
      "outputs": [
        {
          "output_type": "stream",
          "name": "stdout",
          "text": [
            "root\n",
            " |-- id: string (nullable = true)\n",
            " |-- nome: string (nullable = true)\n",
            " |-- sobrenome: string (nullable = true)\n",
            " |-- email: string (nullable = true)\n",
            " |-- salario: string (nullable = true)\n",
            " |-- ultima_compra: string (nullable = true)\n",
            "\n"
          ]
        }
      ]
    },
    {
      "cell_type": "code",
      "source": [
        "# Contando os Dados\n",
        "df_byte_comercio.count()"
      ],
      "metadata": {
        "colab": {
          "base_uri": "https://localhost:8080/"
        },
        "id": "aWEczecY3euH",
        "outputId": "cbed70c2-061e-460b-83a0-e4628fa92ff3"
      },
      "execution_count": 363,
      "outputs": [
        {
          "output_type": "execute_result",
          "data": {
            "text/plain": [
              "1000"
            ]
          },
          "metadata": {},
          "execution_count": 363
        }
      ]
    },
    {
      "cell_type": "code",
      "source": [
        "# Importando as Funções Sql para Manipular os Dados\n",
        "from pyspark.sql.functions import *"
      ],
      "metadata": {
        "id": "Tw0abNhOzwDU"
      },
      "execution_count": 364,
      "outputs": []
    },
    {
      "cell_type": "code",
      "source": [
        "# Concatenando as colunas nome e sobrenome para a coluna nome_completo usando a Função concat_ws\n",
        "df_byte_comercio = df_byte_comercio.select(concat_ws(' ', df_byte_comercio.nome, df_byte_comercio.sobrenome).alias('nome_completo'), 'email', 'salario', 'ultima_compra')"
      ],
      "metadata": {
        "id": "BJ6_uOUC8GCi"
      },
      "execution_count": 365,
      "outputs": []
    },
    {
      "cell_type": "code",
      "source": [
        "# Visualizando Transformação dos Dados\n",
        "df_byte_comercio.show(5, truncate=False)"
      ],
      "metadata": {
        "colab": {
          "base_uri": "https://localhost:8080/"
        },
        "id": "EWqykep98wUK",
        "outputId": "cd5ea33e-ec3d-4c71-8e30-c40cffb2f68c"
      },
      "execution_count": 366,
      "outputs": [
        {
          "output_type": "stream",
          "name": "stdout",
          "text": [
            "+-----------------+---------------------------------+--------+-------------------+\n",
            "|nome_completo    |email                            |salario |ultima_compra      |\n",
            "+-----------------+---------------------------------+--------+-------------------+\n",
            "|Ragnar Beggin    |rbeggin0@hexun.com               |$1218.74|2022-01-10 03:22:31|\n",
            "|Meredithe Balazin|mbalazin1@cmu.edu                |$4345.39|2022-03-24 10:14:54|\n",
            "|Cammi Matchett   |cmatchett2@networkadvertising.org|$3443.81|2022-01-29 03:19:02|\n",
            "|Peta Duffan      |pduffan3@wordpress.org           |$4602.96|2022-02-10 03:46:11|\n",
            "|Cornelia Keith   |ckeith4@businessweek.com         |$1998.34|2022-03-21 17:19:13|\n",
            "+-----------------+---------------------------------+--------+-------------------+\n",
            "only showing top 5 rows\n",
            "\n"
          ]
        }
      ]
    },
    {
      "cell_type": "code",
      "source": [
        "# Verificando a Estrutura dos Dados\n",
        "df_byte_comercio.printSchema()"
      ],
      "metadata": {
        "colab": {
          "base_uri": "https://localhost:8080/"
        },
        "id": "kTLKxIrv9GDE",
        "outputId": "7b351fac-5a71-45e4-fd10-b18f8ad82a3a"
      },
      "execution_count": 367,
      "outputs": [
        {
          "output_type": "stream",
          "name": "stdout",
          "text": [
            "root\n",
            " |-- nome_completo: string (nullable = false)\n",
            " |-- email: string (nullable = true)\n",
            " |-- salario: string (nullable = true)\n",
            " |-- ultima_compra: string (nullable = true)\n",
            "\n"
          ]
        }
      ]
    },
    {
      "cell_type": "code",
      "source": [
        "# Removendo os valores Nulos da coluna ultima_compra\n",
        "df_byte_comercio = df_byte_comercio.na.drop(subset=['ultima_compra'])"
      ],
      "metadata": {
        "id": "JWZREOVm-dMn"
      },
      "execution_count": 368,
      "outputs": []
    },
    {
      "cell_type": "code",
      "source": [
        "# Visualizando Transformação dos Dados\n",
        "df_byte_comercio.show(5, truncate=False)"
      ],
      "metadata": {
        "colab": {
          "base_uri": "https://localhost:8080/"
        },
        "id": "_P4LU13f_18I",
        "outputId": "224f7ddd-6b4b-4fcd-9dc4-966166b0ce55"
      },
      "execution_count": 369,
      "outputs": [
        {
          "output_type": "stream",
          "name": "stdout",
          "text": [
            "+-----------------+---------------------------------+--------+-------------------+\n",
            "|nome_completo    |email                            |salario |ultima_compra      |\n",
            "+-----------------+---------------------------------+--------+-------------------+\n",
            "|Ragnar Beggin    |rbeggin0@hexun.com               |$1218.74|2022-01-10 03:22:31|\n",
            "|Meredithe Balazin|mbalazin1@cmu.edu                |$4345.39|2022-03-24 10:14:54|\n",
            "|Cammi Matchett   |cmatchett2@networkadvertising.org|$3443.81|2022-01-29 03:19:02|\n",
            "|Peta Duffan      |pduffan3@wordpress.org           |$4602.96|2022-02-10 03:46:11|\n",
            "|Cornelia Keith   |ckeith4@businessweek.com         |$1998.34|2022-03-21 17:19:13|\n",
            "+-----------------+---------------------------------+--------+-------------------+\n",
            "only showing top 5 rows\n",
            "\n"
          ]
        }
      ]
    },
    {
      "cell_type": "code",
      "source": [
        "# Removendo Caracteres Especiais da Coluna Sálario \n",
        "df_byte_comercio = df_byte_comercio.withColumn('salario', regexp_replace(col('salario'), '[\\$]', ''))\n",
        "print(df_byte_comercio.printSchema())\n",
        "df_byte_comercio.show(5, truncate=False)"
      ],
      "metadata": {
        "id": "IwRpkeH9AWsY",
        "colab": {
          "base_uri": "https://localhost:8080/"
        },
        "outputId": "d5849a18-e35e-49ab-c8a5-fe892bdab210"
      },
      "execution_count": 370,
      "outputs": [
        {
          "output_type": "stream",
          "name": "stdout",
          "text": [
            "root\n",
            " |-- nome_completo: string (nullable = false)\n",
            " |-- email: string (nullable = true)\n",
            " |-- salario: string (nullable = true)\n",
            " |-- ultima_compra: string (nullable = true)\n",
            "\n",
            "None\n",
            "+-----------------+---------------------------------+-------+-------------------+\n",
            "|nome_completo    |email                            |salario|ultima_compra      |\n",
            "+-----------------+---------------------------------+-------+-------------------+\n",
            "|Ragnar Beggin    |rbeggin0@hexun.com               |1218.74|2022-01-10 03:22:31|\n",
            "|Meredithe Balazin|mbalazin1@cmu.edu                |4345.39|2022-03-24 10:14:54|\n",
            "|Cammi Matchett   |cmatchett2@networkadvertising.org|3443.81|2022-01-29 03:19:02|\n",
            "|Peta Duffan      |pduffan3@wordpress.org           |4602.96|2022-02-10 03:46:11|\n",
            "|Cornelia Keith   |ckeith4@businessweek.com         |1998.34|2022-03-21 17:19:13|\n",
            "+-----------------+---------------------------------+-------+-------------------+\n",
            "only showing top 5 rows\n",
            "\n"
          ]
        }
      ]
    },
    {
      "cell_type": "code",
      "source": [
        "# Importando os tipos de Dados do Pyspark Sql\n",
        "from pyspark.sql.types import *"
      ],
      "metadata": {
        "id": "mh7gLMPdF1J6"
      },
      "execution_count": 371,
      "outputs": []
    },
    {
      "cell_type": "code",
      "source": [
        "# Alterando o tipo da coluna salario de STRING para DOUBLE\n",
        "df_byte_comercio = df_byte_comercio.withColumn('salario', df_byte_comercio['salario'].cast(DoubleType()))\n",
        "print(df_byte_comercio.printSchema())\n",
        "df_byte_comercio.show(5, truncate=False)"
      ],
      "metadata": {
        "colab": {
          "base_uri": "https://localhost:8080/"
        },
        "id": "-_sb1laBG9YG",
        "outputId": "0768733b-f9fb-4d43-fe64-7721e7fc52d6"
      },
      "execution_count": 372,
      "outputs": [
        {
          "output_type": "stream",
          "name": "stdout",
          "text": [
            "root\n",
            " |-- nome_completo: string (nullable = false)\n",
            " |-- email: string (nullable = true)\n",
            " |-- salario: double (nullable = true)\n",
            " |-- ultima_compra: string (nullable = true)\n",
            "\n",
            "None\n",
            "+-----------------+---------------------------------+-------+-------------------+\n",
            "|nome_completo    |email                            |salario|ultima_compra      |\n",
            "+-----------------+---------------------------------+-------+-------------------+\n",
            "|Ragnar Beggin    |rbeggin0@hexun.com               |1218.74|2022-01-10 03:22:31|\n",
            "|Meredithe Balazin|mbalazin1@cmu.edu                |4345.39|2022-03-24 10:14:54|\n",
            "|Cammi Matchett   |cmatchett2@networkadvertising.org|3443.81|2022-01-29 03:19:02|\n",
            "|Peta Duffan      |pduffan3@wordpress.org           |4602.96|2022-02-10 03:46:11|\n",
            "|Cornelia Keith   |ckeith4@businessweek.com         |1998.34|2022-03-21 17:19:13|\n",
            "+-----------------+---------------------------------+-------+-------------------+\n",
            "only showing top 5 rows\n",
            "\n"
          ]
        }
      ]
    },
    {
      "cell_type": "code",
      "source": [
        "# Alterando o tipo da coluna ultima_compra de STRING para TIMESTAMP\n",
        "df_byte_comercio = df_byte_comercio.withColumn(\"ultima_compra\", to_timestamp(\"ultima_compra\", 'yyyy-MM-dd HH:mm:ss'))\n",
        "print(df_byte_comercio.printSchema())\n",
        "df_byte_comercio.show(5, truncate=False)"
      ],
      "metadata": {
        "colab": {
          "base_uri": "https://localhost:8080/"
        },
        "id": "sl1fp6KpHnJ6",
        "outputId": "35d316b3-87d7-4528-be6c-26f86c862456"
      },
      "execution_count": 375,
      "outputs": [
        {
          "output_type": "stream",
          "name": "stdout",
          "text": [
            "root\n",
            " |-- nome_completo: string (nullable = false)\n",
            " |-- email: string (nullable = true)\n",
            " |-- salario: double (nullable = true)\n",
            " |-- ultima_compra: timestamp (nullable = true)\n",
            "\n",
            "None\n",
            "+-----------------+---------------------------------+-------+-------------------+\n",
            "|nome_completo    |email                            |salario|ultima_compra      |\n",
            "+-----------------+---------------------------------+-------+-------------------+\n",
            "|Ragnar Beggin    |rbeggin0@hexun.com               |1218.74|2022-01-10 03:22:31|\n",
            "|Meredithe Balazin|mbalazin1@cmu.edu                |4345.39|2022-03-24 10:14:54|\n",
            "|Cammi Matchett   |cmatchett2@networkadvertising.org|3443.81|2022-01-29 03:19:02|\n",
            "|Peta Duffan      |pduffan3@wordpress.org           |4602.96|2022-02-10 03:46:11|\n",
            "|Cornelia Keith   |ckeith4@businessweek.com         |1998.34|2022-03-21 17:19:13|\n",
            "+-----------------+---------------------------------+-------+-------------------+\n",
            "only showing top 5 rows\n",
            "\n"
          ]
        }
      ]
    },
    {
      "cell_type": "code",
      "source": [
        "# Verificando a Média dos salários dos clientes\n",
        "df_byte_comercio.select(format_number(avg('salario'), 2).alias('Media dos Salários')).show()"
      ],
      "metadata": {
        "colab": {
          "base_uri": "https://localhost:8080/"
        },
        "id": "l_hWkWi7MDZM",
        "outputId": "325f1911-c4e0-4bac-ff56-01d2606f134a"
      },
      "execution_count": 377,
      "outputs": [
        {
          "output_type": "stream",
          "name": "stdout",
          "text": [
            "+------------------+\n",
            "|Media dos Salários|\n",
            "+------------------+\n",
            "|          3,043.20|\n",
            "+------------------+\n",
            "\n"
          ]
        }
      ]
    },
    {
      "cell_type": "code",
      "source": [
        "df_byte_comercio.describe().show()"
      ],
      "metadata": {
        "colab": {
          "base_uri": "https://localhost:8080/"
        },
        "id": "VEuCRXhVOFca",
        "outputId": "8e3861ae-1900-4701-8fbf-fdae53c26b03"
      },
      "execution_count": 381,
      "outputs": [
        {
          "output_type": "stream",
          "name": "stdout",
          "text": [
            "+-------+---------------+--------------------+------------------+\n",
            "|summary|  nome_completo|               email|           salario|\n",
            "+-------+---------------+--------------------+------------------+\n",
            "|  count|            896|                 896|               896|\n",
            "|   mean|           null|                null|3043.2011718750023|\n",
            "| stddev|           null|                null|1156.8772246271785|\n",
            "|    min|     Abe Binnie|aabarrowo8@busine...|           1002.15|\n",
            "|    max|Zorah Holdforth|zshatfordjr@cafep...|           4995.67|\n",
            "+-------+---------------+--------------------+------------------+\n",
            "\n"
          ]
        }
      ]
    },
    {
      "cell_type": "code",
      "source": [
        ""
      ],
      "metadata": {
        "id": "vlUZ6Qnrwrnh"
      },
      "execution_count": null,
      "outputs": []
    }
  ]
}